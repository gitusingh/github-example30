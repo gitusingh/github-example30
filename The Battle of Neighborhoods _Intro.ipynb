{
    "cells": [
        {
            "cell_type": "markdown",
            "metadata": {},
            "source": "<h1>Capstone Project - The Battle of neighborhoods</h1>"
        },
        {
            "cell_type": "markdown",
            "metadata": {
                "collapsed": true
            },
            "source": "## Introduction/Business Problem"
        },
        {
            "cell_type": "markdown",
            "metadata": {},
            "source": "<span style='font-family:\"Times New Roman\"'> <span styel=''>\n<font size = 4>\n    \nNew York is one of the top foodie destinations in the United States. Some would even say that this bustling island is home to some of the best food in the world. But within that, which spots are crafting unforgettable dishes that deserve a place on your gastronomy bucket list?\n    \n    \nIndian food has slowly but surely found its way into the hearts (and stomachs) of cities around the United States. There are more than 300 restaurants that serve cuisine from across the subcontinent in New York City alone, according to Krishnendu Ray, a professor at New York Univeristy who has been studying the cuisine's rise for more than a decade. Compare that to the mere 20 Indian restaurants that could be found in the Big Apple in the early 1980s.\n    \n    \nObjective of this project is to list and visualize all major parts of New York City that has great Indian restaurants.</font>\n"
        },
        {
            "cell_type": "code",
            "execution_count": null,
            "metadata": {},
            "outputs": [],
            "source": ""
        }
    ],
    "metadata": {
        "kernelspec": {
            "display_name": "Python 3.6",
            "language": "python",
            "name": "python3"
        },
        "language_info": {
            "codemirror_mode": {
                "name": "ipython",
                "version": 3
            },
            "file_extension": ".py",
            "mimetype": "text/x-python",
            "name": "python",
            "nbconvert_exporter": "python",
            "pygments_lexer": "ipython3",
            "version": "3.6.9"
        }
    },
    "nbformat": 4,
    "nbformat_minor": 1
}