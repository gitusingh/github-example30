{
    "cells": [
        {
            "cell_type": "markdown",
            "metadata": {
                "collapsed": true
            },
            "source": "<h1>Capstone Project - The Battle of neighborhoods</h1>"
        },
        {
            "cell_type": "markdown",
            "metadata": {},
            "source": "<h2>Data</h2>"
        },
        {
            "cell_type": "markdown",
            "metadata": {},
            "source": "The objective of this project is to list and visualize all major parts of New York City that has great Indian restaurants. This section elborates the data used to accomplish the project."
        },
        {
            "cell_type": "markdown",
            "metadata": {},
            "source": "<h4>New York City data that contains list Boroughs, Neighborhoods along with their latitude and longitude.</h4>"
        },
        {
            "cell_type": "markdown",
            "metadata": {},
            "source": "Data source : https://cocl.us/new_york_dataset"
        },
        {
            "cell_type": "markdown",
            "metadata": {},
            "source": "Description : This data set contains the required information. And we will use this data set to explore various neighborhoods of new york city."
        },
        {
            "cell_type": "markdown",
            "metadata": {},
            "source": "#### Indian restaurants in each neighborhood of new york city."
        },
        {
            "cell_type": "markdown",
            "metadata": {},
            "source": "Data source : Foursquare API"
        },
        {
            "cell_type": "markdown",
            "metadata": {},
            "source": "Description : By using this api we will get all the venues in each neighborhood. We can filter these venues to get only indian resturants."
        },
        {
            "cell_type": "markdown",
            "metadata": {},
            "source": "#### GeoSpace data"
        },
        {
            "cell_type": "markdown",
            "metadata": {},
            "source": "Data source : https://data.cityofnewyork.us/City-Government/Borough-Boundaries/tqmj-j8zm"
        },
        {
            "cell_type": "markdown",
            "metadata": {},
            "source": "Description : By using this geospace data we will get the New york Borough boundaries that will help us visualize choropleth map."
        },
        {
            "cell_type": "code",
            "execution_count": null,
            "metadata": {},
            "outputs": [],
            "source": ""
        }
    ],
    "metadata": {
        "kernelspec": {
            "display_name": "Python 3.6",
            "language": "python",
            "name": "python3"
        },
        "language_info": {
            "codemirror_mode": {
                "name": "ipython",
                "version": 3
            },
            "file_extension": ".py",
            "mimetype": "text/x-python",
            "name": "python",
            "nbconvert_exporter": "python",
            "pygments_lexer": "ipython3",
            "version": "3.6.9"
        }
    },
    "nbformat": 4,
    "nbformat_minor": 1
}